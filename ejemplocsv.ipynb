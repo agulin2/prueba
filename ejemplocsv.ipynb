{
 "cells": [
  {
   "cell_type": "code",
   "execution_count": 17,
   "metadata": {},
   "outputs": [
    {
     "name": "stdout",
     "output_type": "stream",
     "text": [
      "Eliminando cabeceras de Libro1.csv...\n",
      "['nombre2;apellido2;dni2']\n",
      "['nombre3;apellido3;dni3']\n",
      "['nombre4;apellido4;dni4']\n",
      "Eliminando cabeceras de Libro2.csv...\n",
      "['nombre2;apellido2;dni2']\n",
      "['nombre3;apellido3;dni3']\n",
      "['nombre4;apellido4;dni4']\n",
      "Eliminando cabeceras de sLibro1.csv...\n",
      "[]\n",
      "['nombre3;apellido3;dni3']\n",
      "[]\n",
      "['nombre4;apellido4;dni4']\n",
      "[]\n",
      "Eliminando cabeceras de sLibro2.csv...\n",
      "[]\n",
      "['nombre3;apellido3;dni3']\n",
      "[]\n",
      "['nombre4;apellido4;dni4']\n",
      "[]\n"
     ]
    }
   ],
   "source": [
    "import csv, os\n",
    "os.makedirs('SinCabeceras', exist_ok=True)\n",
    "\n",
    "for csvFilename in os.listdir('.'):\n",
    "    if not csvFilename.endswith('.csv'):\n",
    "        continue\n",
    "    print('Eliminando cabeceras de ' + csvFilename + '...')\n",
    "    \n",
    "    csvRows=[]\n",
    "    csvFileObj=open(csvFilename)\n",
    "    readerObj=csv.reader(csvFileObj)\n",
    "    for row in readerObj:\n",
    "        if readerObj.line_num==1:\n",
    "            continue\n",
    "        csvRows.append(row)\n",
    "    csvFileObj.close()\n",
    "    \n",
    "    csvFileObj=open(os.path.join('SinCabeceras', csvFilename), 'w')\n",
    "    csvWriter=csv.writer(csvFileObj)\n",
    "    for row in csvRows:\n",
    "        print(row)\n",
    "        csvWriter.writerow(row)\n",
    "    csvFileObj.close()\n",
    "    "
   ]
  },
  {
   "cell_type": "code",
   "execution_count": 9,
   "metadata": {},
   "outputs": [],
   "source": [
    "csvFileObj.close()"
   ]
  },
  {
   "cell_type": "code",
   "execution_count": null,
   "metadata": {},
   "outputs": [],
   "source": []
  },
  {
   "cell_type": "code",
   "execution_count": null,
   "metadata": {},
   "outputs": [],
   "source": []
  }
 ],
 "metadata": {
  "kernelspec": {
   "display_name": "Python 3",
   "language": "python",
   "name": "python3"
  },
  "language_info": {
   "codemirror_mode": {
    "name": "ipython",
    "version": 3
   },
   "file_extension": ".py",
   "mimetype": "text/x-python",
   "name": "python",
   "nbconvert_exporter": "python",
   "pygments_lexer": "ipython3",
   "version": "3.7.0"
  }
 },
 "nbformat": 4,
 "nbformat_minor": 2
}
